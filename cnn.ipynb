{
 "cells": [
  {
   "cell_type": "code",
   "execution_count": 29,
   "metadata": {},
   "outputs": [],
   "source": [
    "from scipy.io import loadmat\n",
    "import numpy as np\n",
    "import matplotlib.pyplot as plt\n",
    "from tensorflow.keras.preprocessing.image import ImageDataGenerator\n",
    "import tensorflow as tf\n",
    "import random\n",
    "import os"
   ]
  },
  {
   "cell_type": "code",
   "execution_count": 30,
   "metadata": {},
   "outputs": [],
   "source": [
    "os.environ['PYTHONHASHSEED'] = '0'\n",
    "os.environ['CUDA_VISIBLE_DEVICES'] = ''\n",
    "np.random.seed(0)\n",
    "random.seed(0)\n",
    "tf.random.set_seed(0)"
   ]
  },
  {
   "cell_type": "code",
   "execution_count": 31,
   "metadata": {},
   "outputs": [],
   "source": [
    "path = './dataset/SVHN/format2/{}_32x32.mat'"
   ]
  },
  {
   "cell_type": "code",
   "execution_count": 32,
   "metadata": {},
   "outputs": [],
   "source": [
    "def load(train=True, test=False):\n",
    "    if train + test == 0:\n",
    "        return\n",
    "    if train and not test:\n",
    "        token = ['train']\n",
    "    elif test and not train:\n",
    "        token = ['test']\n",
    "    else:\n",
    "        token = ['train','test']\n",
    "    return list(map(lambda x: loadmat(file_name=path.format(x)),token))"
   ]
  },
  {
   "cell_type": "code",
   "execution_count": 33,
   "metadata": {},
   "outputs": [],
   "source": [
    "[train,test] = load(train=True,test=True)"
   ]
  },
  {
   "cell_type": "code",
   "execution_count": 34,
   "metadata": {},
   "outputs": [
    {
     "data": {
      "text/plain": [
       "(32, 32, 3, 73257)"
      ]
     },
     "execution_count": 34,
     "metadata": {},
     "output_type": "execute_result"
    }
   ],
   "source": [
    "X_train, y_train = train['X'], train['y']\n",
    "X_test, y_test = test['X'], test['y']\n",
    "X_train.shape"
   ]
  },
  {
   "cell_type": "code",
   "execution_count": 35,
   "metadata": {},
   "outputs": [],
   "source": [
    "# Scale images to the [0, 1] range\n",
    "X_train = X_train.astype(\"float32\") / 255\n",
    "X_test = X_test.astype(\"float32\") / 255"
   ]
  },
  {
   "cell_type": "code",
   "execution_count": 36,
   "metadata": {},
   "outputs": [
    {
     "data": {
      "text/plain": [
       "(73257, 32, 32, 3)"
      ]
     },
     "execution_count": 36,
     "metadata": {},
     "output_type": "execute_result"
    }
   ],
   "source": [
    "X_train = np.transpose(X_train,(3,0,1,2))\n",
    "X_test = np.transpose(X_test,(3,0,1,2))\n",
    "X_train.shape"
   ]
  },
  {
   "cell_type": "code",
   "execution_count": 38,
   "metadata": {},
   "outputs": [],
   "source": [
    "from tensorflow import keras\n",
    "from tensorflow.keras.models import Sequential\n",
    "from tensorflow.keras.callbacks import EarlyStopping\n",
    "from tensorflow.keras import Input\n",
    "from tensorflow.keras.layers import Dense, Dropout, BatchNormalization, Conv2D, MaxPooling2D, Flatten"
   ]
  },
  {
   "cell_type": "code",
   "execution_count": 39,
   "metadata": {},
   "outputs": [
    {
     "data": {
      "text/plain": [
       "('channels_last', 'tensorflow')"
      ]
     },
     "execution_count": 39,
     "metadata": {},
     "output_type": "execute_result"
    }
   ],
   "source": [
    "keras.backend.image_data_format(), keras.backend.backend()"
   ]
  },
  {
   "cell_type": "code",
   "execution_count": 40,
   "metadata": {},
   "outputs": [],
   "source": [
    "def build_model(input_shape,num_classes,learning_rate,model='final'):\n",
    "  \n",
    "  keras.backend.clear_session() \n",
    "  \n",
    "  if model=='starting':\n",
    "############################# Starting Model ##################################\n",
    "    model = Sequential(\n",
    "        [\n",
    "            Input(shape=input_shape),\n",
    "            Conv2D(32, kernel_size=(3, 3), activation=\"relu\"),\n",
    "            MaxPooling2D(pool_size=(2, 2)),\n",
    "            Conv2D(64, kernel_size=(3, 3), activation=\"relu\"),\n",
    "            MaxPooling2D(pool_size=(2, 2)),\n",
    "            Flatten(),\n",
    "            Dropout(0.5),\n",
    "            Dense(num_classes, activation=\"softmax\"),\n",
    "        ]\n",
    "    )\n",
    "###############################################################################\n",
    "  elif model=='second':\n",
    "############################# Second Model ##################################\n",
    "    model = Sequential()\n",
    "    model.add(Conv2D(filters=64, kernel_size=(5,5), padding='same', activation='relu', input_shape=input_shape))\n",
    "    model.add(MaxPooling2D(pool_size=(2,2), strides=2))\n",
    "    model.add(Conv2D(filters=32, kernel_size=(5,5), padding='same', activation='relu'))\n",
    "    model.add(MaxPooling2D(pool_size=(2,2), strides=2))\n",
    "    model.add(Flatten())\n",
    "    model.add(Dense(128, activation='relu'))\n",
    "    model.add(Dropout(0.2))\n",
    "    model.add(Dense(64, activation='relu'))\n",
    "    model.add(Dropout(0.2))\n",
    "    model.add(Dense(10, activation='softmax'))\n",
    "###############################################################################\n",
    "  elif model=='third':\n",
    "############################# Third Model ##################################\n",
    "    model = Sequential()\n",
    "    model.add(Conv2D(32, kernel_size=(5, 5), activation='relu', input_shape=input_shape))\n",
    "    model.add(BatchNormalization())\n",
    "    model.add(Conv2D(64, (5, 5), activation='relu'))\n",
    "    model.add(BatchNormalization())\n",
    "    model.add(Conv2D(64, (5, 5), activation='relu'))\n",
    "    model.add(BatchNormalization())\n",
    "    model.add(MaxPooling2D(pool_size=(3, 3)))\n",
    "    model.add(Dropout(0.25))\n",
    "    model.add(Flatten())\n",
    "    model.add(Dense(256, activation='relu'))\n",
    "    model.add(Dropout(0.5))\n",
    "    model.add(Dense(256, activation='relu'))\n",
    "    model.add(Dropout(0.5))\n",
    "    model.add(Dense(num_classes, activation='softmax'))\n",
    "###############################################################################\n",
    "  elif model=='final':\n",
    "############################# Final Model ##################################\n",
    "    model = Sequential([\n",
    "      Conv2D(32, (3, 3), padding='same',activation='relu',input_shape=input_shape),\n",
    "      BatchNormalization(),\n",
    "      Conv2D(32, (3, 3), padding='same',activation='relu'),\n",
    "      MaxPooling2D((2, 2)),\n",
    "      Dropout(0.3),\n",
    "      Conv2D(64, (3, 3), padding='same',activation='relu'),\n",
    "      BatchNormalization(),\n",
    "      Conv2D(64, (3, 3), padding='same',activation='relu'),\n",
    "      MaxPooling2D((2, 2)),\n",
    "      Dropout(0.3),\n",
    "      Conv2D(128, (3, 3), padding='same',activation='relu'),\n",
    "      BatchNormalization(),\n",
    "      Conv2D(128, (3, 3), padding='same',activation='relu'),\n",
    "      MaxPooling2D((2, 2)),\n",
    "      Dropout(0.3),\n",
    "      Flatten(),\n",
    "      Dense(128, activation='relu'),\n",
    "      Dropout(0.4),    \n",
    "      Dense(num_classes,  activation='softmax')\n",
    "    ])\n",
    "###############################################################################\n",
    "\n",
    "  # compile model\n",
    "  optimizer = keras.optimizers.Adam(learning_rate=learning_rate)\n",
    "  model.compile(optimizer=optimizer,\n",
    "              loss='categorical_crossentropy',\n",
    "              metrics=['accuracy'])\n",
    "  model.summary()\n",
    "  return model"
   ]
  },
  {
   "cell_type": "code",
   "execution_count": 41,
   "metadata": {},
   "outputs": [],
   "source": [
    "# Hyperparameters\n",
    "batch_size = 128\n",
    "learning_rate = 1e-3\n",
    "# Use for Stage I and II\n",
    "epochs = 5\n",
    "\n",
    "\n",
    "validation_split = 0.1\n",
    "\n",
    "# Global parameters\n",
    "input_shape = (32,32,3)\n",
    "num_classes = 10"
   ]
  },
  {
   "cell_type": "code",
   "execution_count": 42,
   "metadata": {},
   "outputs": [],
   "source": [
    "data_generator = ImageDataGenerator(\n",
    "    rotation_range=9,\n",
    "    height_shift_range=0.1,\n",
    "    width_shift_range=0.1,\n",
    "    vertical_flip=False,\n",
    "    horizontal_flip=False\n",
    "    )\n",
    "\n",
    "early_stopping = EarlyStopping(\n",
    "    monitor='loss',\n",
    "    min_delta=0.0005,\n",
    "    patience=3,\n",
    "    mode='min'\n",
    "    )"
   ]
  },
  {
   "cell_type": "code",
   "execution_count": 43,
   "metadata": {},
   "outputs": [
    {
     "data": {
      "text/plain": [
       "(73257, 11)"
      ]
     },
     "execution_count": 43,
     "metadata": {},
     "output_type": "execute_result"
    }
   ],
   "source": [
    "# convert class vectors to binary class matrices\n",
    "y_train = keras.utils.to_categorical(y_train.astype('float32'))\n",
    "y_test = keras.utils.to_categorical(y_test.astype('float32'))\n",
    "y_train.shape"
   ]
  },
  {
   "cell_type": "code",
   "execution_count": 44,
   "metadata": {},
   "outputs": [],
   "source": [
    "y_train = np.delete(y_train,(0),axis=1)\n",
    "y_test = np.delete(y_test,(0),axis=1)"
   ]
  },
  {
   "cell_type": "code",
   "execution_count": 46,
   "metadata": {},
   "outputs": [],
   "source": [
    "# build model\n",
    "# model1 = build_model(input_shape,num_classes,learning_rate,'starting')\n",
    "# history1 = model1.fit(\n",
    "#                     X_train,\n",
    "#                     y_train,\n",
    "#                     batch_size=batch_size,\n",
    "#                     epochs=epochs,\n",
    "#                     validation_split=validation_split,\n",
    "#                     callbacks=[early_stopping],\n",
    "#                     verbose=1\n",
    "#                     )"
   ]
  },
  {
   "cell_type": "code",
   "execution_count": 47,
   "metadata": {},
   "outputs": [],
   "source": [
    "# model2 = build_model(input_shape,num_classes,learning_rate,'second')\n",
    "# history2 = model2.fit(\n",
    "#                     X_train,\n",
    "#                     y_train,\n",
    "#                     batch_size=batch_size,\n",
    "#                     epochs=epochs,\n",
    "#                     validation_split=validation_split,\n",
    "#                     callbacks=[early_stopping],\n",
    "#                     verbose=1\n",
    "#                     )"
   ]
  },
  {
   "cell_type": "code",
   "execution_count": 48,
   "metadata": {},
   "outputs": [],
   "source": [
    "# model3 = build_model(input_shape,num_classes,learning_rate,'third')\n",
    "# history3 = model3.fit(\n",
    "#                     X_train,\n",
    "#                     y_train,\n",
    "#                     batch_size=batch_size,\n",
    "#                     epochs=epochs,\n",
    "#                     validation_split=validation_split,\n",
    "#                     callbacks=[early_stopping],\n",
    "#                     verbose=1\n",
    "#                     )"
   ]
  },
  {
   "cell_type": "code",
   "execution_count": 49,
   "metadata": {},
   "outputs": [],
   "source": [
    "# model4 = build_model(input_shape,num_classes,learning_rate,'final')\n",
    "# history4 = model4.fit(\n",
    "#                     X_train,\n",
    "#                     y_train,\n",
    "#                     batch_size=batch_size,\n",
    "#                     epochs=epochs,\n",
    "#                     validation_split=validation_split,\n",
    "#                     callbacks=[early_stopping],\n",
    "#                     verbose=1\n",
    "#                     )"
   ]
  },
  {
   "cell_type": "code",
   "execution_count": 50,
   "metadata": {},
   "outputs": [],
   "source": [
    "# accuracy1, loss1 = history1.history['accuracy'], history1.history['loss']\n",
    "# accuracy2, loss2 = history2.history['accuracy'], history2.history['loss']\n",
    "# accuracy3, loss3 = history3.history['accuracy'], history3.history['loss']\n",
    "# accuracy4, loss4 = history4.history['accuracy'], history4.history['loss']"
   ]
  },
  {
   "cell_type": "code",
   "execution_count": 51,
   "metadata": {},
   "outputs": [],
   "source": [
    "# plt.plot(accuracy1,label='Starting model')\n",
    "# plt.plot(accuracy2,label='Second model')\n",
    "# plt.plot(accuracy3,label='Third model')\n",
    "# plt.plot(accuracy4,label='Final model')\n",
    "# plt.xlabel('Epochs')\n",
    "# plt.ylabel('CV Accuracy')\n",
    "# plt.title('Stage I: Epochs vs. CV Accuracy')\n",
    "# plt.legend()\n",
    "# plt.savefig('stage1acc.png')\n",
    "# plt.show()\n"
   ]
  },
  {
   "cell_type": "code",
   "execution_count": 52,
   "metadata": {},
   "outputs": [],
   "source": [
    "# plt.plot(loss1,label='Starting model')\n",
    "# plt.plot(loss2,label='Second model')\n",
    "# plt.plot(loss3,label='Third model')\n",
    "# plt.plot(loss4,label='Final model')\n",
    "# plt.xlabel('Loss')\n",
    "# plt.ylabel('CV Accuracy')\n",
    "# plt.title('Stage I: Loss vs. CV Accuracy')\n",
    "# plt.legend()\n",
    "# plt.savefig('stage1loss.png')\n",
    "# plt.show()\n"
   ]
  },
  {
   "cell_type": "code",
   "execution_count": 53,
   "metadata": {},
   "outputs": [],
   "source": [
    "# from tensorflow.keras.utils import plot_model\n",
    "# plot_model(model2, to_file='model2.png', show_shapes=True)\n",
    "# plot_model(model3, to_file='model3.png', show_shapes=True)\n",
    "# plot_model(model4, to_file='model4.png', show_shapes=True)"
   ]
  },
  {
   "cell_type": "code",
   "execution_count": 54,
   "metadata": {},
   "outputs": [],
   "source": [
    "# model1.save('model1')\n",
    "# model2.save('model2')\n",
    "# model3.save('model3')\n",
    "# model4.save('model4')"
   ]
  },
  {
   "cell_type": "code",
   "execution_count": 55,
   "metadata": {},
   "outputs": [],
   "source": [
    "# Use for Stage III\n",
    "epochs = 10"
   ]
  },
  {
   "cell_type": "code",
   "execution_count": 56,
   "metadata": {},
   "outputs": [
    {
     "name": "stdout",
     "output_type": "stream",
     "text": [
      "Model: \"sequential\"\n",
      "_________________________________________________________________\n",
      " Layer (type)                Output Shape              Param #   \n",
      "=================================================================\n",
      " conv2d (Conv2D)             (None, 32, 32, 32)        896       \n",
      "                                                                 \n",
      " batch_normalization (BatchN  (None, 32, 32, 32)       128       \n",
      " ormalization)                                                   \n",
      "                                                                 \n",
      " conv2d_1 (Conv2D)           (None, 32, 32, 32)        9248      \n",
      "                                                                 \n",
      " max_pooling2d (MaxPooling2D  (None, 16, 16, 32)       0         \n",
      " )                                                               \n",
      "                                                                 \n",
      " dropout (Dropout)           (None, 16, 16, 32)        0         \n",
      "                                                                 \n",
      " conv2d_2 (Conv2D)           (None, 16, 16, 64)        18496     \n",
      "                                                                 \n",
      " batch_normalization_1 (Batc  (None, 16, 16, 64)       256       \n",
      " hNormalization)                                                 \n",
      "                                                                 \n",
      " conv2d_3 (Conv2D)           (None, 16, 16, 64)        36928     \n",
      "                                                                 \n",
      " max_pooling2d_1 (MaxPooling  (None, 8, 8, 64)         0         \n",
      " 2D)                                                             \n",
      "                                                                 \n",
      " dropout_1 (Dropout)         (None, 8, 8, 64)          0         \n",
      "                                                                 \n",
      " conv2d_4 (Conv2D)           (None, 8, 8, 128)         73856     \n",
      "                                                                 \n",
      " batch_normalization_2 (Batc  (None, 8, 8, 128)        512       \n",
      " hNormalization)                                                 \n",
      "                                                                 \n",
      " conv2d_5 (Conv2D)           (None, 8, 8, 128)         147584    \n",
      "                                                                 \n",
      " max_pooling2d_2 (MaxPooling  (None, 4, 4, 128)        0         \n",
      " 2D)                                                             \n",
      "                                                                 \n",
      " dropout_2 (Dropout)         (None, 4, 4, 128)         0         \n",
      "                                                                 \n",
      " flatten (Flatten)           (None, 2048)              0         \n",
      "                                                                 \n",
      " dense (Dense)               (None, 128)               262272    \n",
      "                                                                 \n",
      " dropout_3 (Dropout)         (None, 128)               0         \n",
      "                                                                 \n",
      " dense_1 (Dense)             (None, 10)                1290      \n",
      "                                                                 \n",
      "=================================================================\n",
      "Total params: 551,466\n",
      "Trainable params: 551,018\n",
      "Non-trainable params: 448\n",
      "_________________________________________________________________\n",
      "Epoch 1/10\n"
     ]
    },
    {
     "name": "stderr",
     "output_type": "stream",
     "text": [
      "<ipython-input-56-7254eabab2c4>:4: UserWarning: `Model.fit_generator` is deprecated and will be removed in a future version. Please use `Model.fit`, which supports generators.\n",
      "  history = model.fit_generator(\n"
     ]
    },
    {
     "name": "stdout",
     "output_type": "stream",
     "text": [
      "573/573 [==============================] - 215s 374ms/step - loss: 2.0636 - accuracy: 0.2424\n",
      "Epoch 2/10\n",
      "573/573 [==============================] - 227s 397ms/step - loss: 1.4854 - accuracy: 0.4686\n",
      "Epoch 3/10\n",
      "573/573 [==============================] - 236s 412ms/step - loss: 0.6922 - accuracy: 0.7789\n",
      "Epoch 4/10\n",
      "573/573 [==============================] - 228s 398ms/step - loss: 0.4159 - accuracy: 0.8815\n",
      "Epoch 5/10\n",
      "573/573 [==============================] - 264s 461ms/step - loss: 0.3420 - accuracy: 0.9041\n",
      "Epoch 6/10\n",
      "573/573 [==============================] - 260s 454ms/step - loss: 0.3032 - accuracy: 0.9146\n",
      "Epoch 7/10\n",
      "573/573 [==============================] - 248s 433ms/step - loss: 0.2815 - accuracy: 0.9208\n",
      "Epoch 8/10\n",
      "573/573 [==============================] - 257s 448ms/step - loss: 0.2600 - accuracy: 0.9269\n",
      "Epoch 9/10\n",
      "573/573 [==============================] - 250s 437ms/step - loss: 0.2486 - accuracy: 0.9291\n",
      "Epoch 10/10\n",
      "573/573 [==============================] - 235s 409ms/step - loss: 0.2322 - accuracy: 0.9349\n",
      "Model: \"sequential\"\n",
      "_________________________________________________________________\n",
      " Layer (type)                Output Shape              Param #   \n",
      "=================================================================\n",
      " conv2d (Conv2D)             (None, 32, 32, 32)        896       \n",
      "                                                                 \n",
      " batch_normalization (BatchN  (None, 32, 32, 32)       128       \n",
      " ormalization)                                                   \n",
      "                                                                 \n",
      " conv2d_1 (Conv2D)           (None, 32, 32, 32)        9248      \n",
      "                                                                 \n",
      " max_pooling2d (MaxPooling2D  (None, 16, 16, 32)       0         \n",
      " )                                                               \n",
      "                                                                 \n",
      " dropout (Dropout)           (None, 16, 16, 32)        0         \n",
      "                                                                 \n",
      " conv2d_2 (Conv2D)           (None, 16, 16, 64)        18496     \n",
      "                                                                 \n",
      " batch_normalization_1 (Batc  (None, 16, 16, 64)       256       \n",
      " hNormalization)                                                 \n",
      "                                                                 \n",
      " conv2d_3 (Conv2D)           (None, 16, 16, 64)        36928     \n",
      "                                                                 \n",
      " max_pooling2d_1 (MaxPooling  (None, 8, 8, 64)         0         \n",
      " 2D)                                                             \n",
      "                                                                 \n",
      " dropout_1 (Dropout)         (None, 8, 8, 64)          0         \n",
      "                                                                 \n",
      " conv2d_4 (Conv2D)           (None, 8, 8, 128)         73856     \n",
      "                                                                 \n",
      " batch_normalization_2 (Batc  (None, 8, 8, 128)        512       \n",
      " hNormalization)                                                 \n",
      "                                                                 \n",
      " conv2d_5 (Conv2D)           (None, 8, 8, 128)         147584    \n",
      "                                                                 \n",
      " max_pooling2d_2 (MaxPooling  (None, 4, 4, 128)        0         \n",
      " 2D)                                                             \n",
      "                                                                 \n",
      " dropout_2 (Dropout)         (None, 4, 4, 128)         0         \n",
      "                                                                 \n",
      " flatten (Flatten)           (None, 2048)              0         \n",
      "                                                                 \n",
      " dense (Dense)               (None, 128)               262272    \n",
      "                                                                 \n",
      " dropout_3 (Dropout)         (None, 128)               0         \n",
      "                                                                 \n",
      " dense_1 (Dense)             (None, 10)                1290      \n",
      "                                                                 \n",
      "=================================================================\n",
      "Total params: 551,466\n",
      "Trainable params: 551,018\n",
      "Non-trainable params: 448\n",
      "_________________________________________________________________\n"
     ]
    },
    {
     "name": "stderr",
     "output_type": "stream",
     "text": [
      "<ipython-input-56-7254eabab2c4>:13: UserWarning: `Model.fit_generator` is deprecated and will be removed in a future version. Please use `Model.fit`, which supports generators.\n",
      "  history_aug = model_aug.fit_generator(\n"
     ]
    },
    {
     "name": "stdout",
     "output_type": "stream",
     "text": [
      "Epoch 1/10\n",
      "573/573 [==============================] - 239s 415ms/step - loss: 2.1696 - accuracy: 0.2208\n",
      "Epoch 2/10\n",
      "573/573 [==============================] - 258s 451ms/step - loss: 1.7424 - accuracy: 0.3687\n",
      "Epoch 3/10\n",
      "573/573 [==============================] - 262s 456ms/step - loss: 1.1396 - accuracy: 0.6117\n",
      "Epoch 4/10\n",
      "573/573 [==============================] - 268s 467ms/step - loss: 0.5504 - accuracy: 0.8367\n",
      "Epoch 5/10\n",
      "573/573 [==============================] - 263s 458ms/step - loss: 0.4376 - accuracy: 0.8742\n",
      "Epoch 6/10\n",
      "573/573 [==============================] - 258s 450ms/step - loss: 0.3825 - accuracy: 0.8903\n",
      "Epoch 7/10\n",
      "573/573 [==============================] - 253s 442ms/step - loss: 0.3569 - accuracy: 0.8990\n",
      "Epoch 8/10\n",
      "573/573 [==============================] - 248s 433ms/step - loss: 0.3373 - accuracy: 0.9040\n",
      "Epoch 9/10\n",
      "573/573 [==============================] - 234s 408ms/step - loss: 0.3205 - accuracy: 0.9091\n",
      "Epoch 10/10\n",
      "573/573 [==============================] - 215s 375ms/step - loss: 0.3090 - accuracy: 0.9124\n"
     ]
    }
   ],
   "source": [
    "# train model\n",
    "# without data augmentation\n",
    "model = build_model(input_shape,num_classes,learning_rate,'final')\n",
    "history = model.fit_generator(\n",
    "    ImageDataGenerator().flow(X_train,y_train,batch_size),\n",
    "    epochs=epochs,\n",
    "    callbacks=[early_stopping]\n",
    "    )\n",
    "\n",
    "# with data augmentation\n",
    "model_aug = build_model(input_shape,num_classes,learning_rate,'final')\n",
    "\n",
    "history_aug = model_aug.fit_generator(\n",
    "    data_generator.flow(X_train,y_train,batch_size),\n",
    "    epochs=epochs,\n",
    "    callbacks=[early_stopping]\n",
    "    )"
   ]
  },
  {
   "cell_type": "code",
   "execution_count": 76,
   "metadata": {},
   "outputs": [
    {
     "name": "stdout",
     "output_type": "stream",
     "text": [
      "INFO:tensorflow:Assets written to: finalmodel\\assets\n",
      "INFO:tensorflow:Assets written to: model_aug\\assets\n"
     ]
    }
   ],
   "source": [
    "# save the models\n",
    "model.save('finalmodel')\n",
    "model_aug.save('model_aug')"
   ]
  },
  {
   "cell_type": "code",
   "execution_count": 63,
   "metadata": {},
   "outputs": [
    {
     "name": "stdout",
     "output_type": "stream",
     "text": [
      "204/204 [==============================] - 15s 76ms/step - loss: 0.1957 - accuracy: 0.9499\n",
      "test loss: 0.20\n",
      "test accuracy: 0.95\n",
      "204/204 [==============================] - 19s 95ms/step - loss: 0.1842 - accuracy: 0.9541\n",
      "test loss (data augmentation): 0.18\n",
      "test accuracy (data augmentation): 0.95\n"
     ]
    }
   ],
   "source": [
    "# test model\n",
    "loss, acc = model.evaluate(X_test,y_test,batch_size)\n",
    "print(f'test loss: {loss:0.2f}')\n",
    "print(f'test accuracy: {acc:0.2f}')\n",
    "\n",
    "loss_, acc_ = model_aug.evaluate(X_test,y_test,batch_size)\n",
    "print(f'test loss (data augmentation): {loss_:0.2f}')\n",
    "print(f'test accuracy (data augmentation): {acc_:0.2f}')"
   ]
  },
  {
   "cell_type": "code",
   "execution_count": 64,
   "metadata": {},
   "outputs": [],
   "source": [
    "accuracy = history.history['accuracy']\n",
    "accuracy_aug = history_aug.history['accuracy']\n",
    "\n",
    "loss = history.history['loss']\n",
    "loss_aug = history_aug.history['loss']"
   ]
  },
  {
   "cell_type": "code",
   "execution_count": 75,
   "metadata": {},
   "outputs": [
    {
     "data": {
      "image/png": "[encoded data removed]",
      "text/plain": [
       "<Figure size 720x216 with 2 Axes>"
      ]
     },
     "metadata": {
      "needs_background": "light"
     },
     "output_type": "display_data"
    }
   ],
   "source": [
    "fig,(ax1,ax2) = plt.subplots(1,2,figsize=(10,3))\n",
    "ax1.plot(accuracy)\n",
    "ax1.plot(accuracy_aug)\n",
    "ax1.set_xlabel('Epochs')\n",
    "ax1.set_ylabel('Accuracy')\n",
    "ax1.legend(['Without Data Augmentation','With Data Augmentation'],loc='lower right')\n",
    "ax1.set_title('Epochs vs. Accuracy')\n",
    "\n",
    "ax2.plot(loss)\n",
    "ax2.plot(loss_aug)\n",
    "ax2.set_xlabel('Epochs')\n",
    "ax2.set_ylabel('Loss')\n",
    "ax2.set_title('Epochs vs. Loss')\n",
    "ax2.legend(['Without Data Augmentation','With Data Augmentation'],loc='upper right')\n",
    "fig.savefig('stage3.png')\n",
    "plt.show()"
   ]
  },
  {
   "cell_type": "code",
   "execution_count": null,
   "metadata": {},
   "outputs": [],
   "source": []
  }
 ],
 "metadata": {
  "interpreter": {
   "hash": "a3324b876321f3d563a2cb784a3f45e5f00d8eaeb2338e18eccf54b946e3e5d3"
  },
  "kernelspec": {
   "display_name": "Python 3",
   "language": "python",
   "name": "python3"
  },
  "language_info": {
   "codemirror_mode": {
    "name": "ipython",
    "version": 3
   },
   "file_extension": ".py",
   "mimetype": "text/x-python",
   "name": "python",
   "nbconvert_exporter": "python",
   "pygments_lexer": "ipython3",
   "version": "3.8.8"
  }
 },
 "nbformat": 4,
 "nbformat_minor": 2
}
